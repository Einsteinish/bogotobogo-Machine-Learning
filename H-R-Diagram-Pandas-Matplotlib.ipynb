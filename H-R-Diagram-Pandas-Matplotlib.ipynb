{
 "cells": [
  {
   "cell_type": "code",
   "execution_count": 36,
   "metadata": {
    "collapsed": false
   },
   "outputs": [
    {
     "name": "stdout",
     "output_type": "stream",
     "text": [
      "Populating the interactive namespace from numpy and matplotlib\n"
     ]
    }
   ],
   "source": [
    "%pylab inline"
   ]
  },
  {
   "cell_type": "code",
   "execution_count": 37,
   "metadata": {
    "collapsed": false
   },
   "outputs": [],
   "source": [
    "import pandas as pd\n",
    "import numpy as np"
   ]
  },
  {
   "cell_type": "code",
   "execution_count": 38,
   "metadata": {
    "collapsed": true
   },
   "outputs": [],
   "source": [
    "# reads in a file separated by multiple spaces.\n",
    "# So, sep='\\s+' is needed. \n",
    "df_hip = pd.read_csv( \\\n",
    "'http://bogotobogo.com/python/images/python_Pandas_NumPy_Matplotlib/HIP_star.dat',\\\n",
    "                     sep='\\s+')"
   ]
  },
  {
   "cell_type": "code",
   "execution_count": 39,
   "metadata": {
    "collapsed": false
   },
   "outputs": [
    {
     "data": {
      "text/plain": [
       "(2720, 9)"
      ]
     },
     "execution_count": 39,
     "metadata": {},
     "output_type": "execute_result"
    }
   ],
   "source": [
    "df_hip.shape"
   ]
  },
  {
   "cell_type": "code",
   "execution_count": 40,
   "metadata": {
    "collapsed": false
   },
   "outputs": [
    {
     "data": {
      "text/plain": [
       "HIP       0\n",
       "Vmag      1\n",
       "RA        1\n",
       "DE        1\n",
       "Plx       1\n",
       "pmRA      1\n",
       "pmDE      1\n",
       "e_Plx     1\n",
       "B-V      42\n",
       "dtype: int64"
      ]
     },
     "execution_count": 40,
     "metadata": {},
     "output_type": "execute_result"
    }
   ],
   "source": [
    "# check if a column has no data (or NaN)\n",
    "df_hip.isnull().sum()"
   ]
  },
  {
   "cell_type": "code",
   "execution_count": 41,
   "metadata": {
    "collapsed": false
   },
   "outputs": [],
   "source": [
    "# drop any row if any of the column is missing data\n",
    "df_hip = df_hip.dropna()"
   ]
  },
  {
   "cell_type": "code",
   "execution_count": 42,
   "metadata": {
    "collapsed": false
   },
   "outputs": [
    {
     "data": {
      "text/plain": [
       "HIP      0\n",
       "Vmag     0\n",
       "RA       0\n",
       "DE       0\n",
       "Plx      0\n",
       "pmRA     0\n",
       "pmDE     0\n",
       "e_Plx    0\n",
       "B-V      0\n",
       "dtype: int64"
      ]
     },
     "execution_count": 42,
     "metadata": {},
     "output_type": "execute_result"
    }
   ],
   "source": [
    "# check if a column has no data (or NaN) again\n",
    "df_hip.isnull().sum()"
   ]
  },
  {
   "cell_type": "code",
   "execution_count": 43,
   "metadata": {
    "collapsed": false
   },
   "outputs": [
    {
     "data": {
      "text/plain": [
       "(2678, 9)"
      ]
     },
     "execution_count": 43,
     "metadata": {},
     "output_type": "execute_result"
    }
   ],
   "source": [
    "df_hip.shape"
   ]
  },
  {
   "cell_type": "code",
   "execution_count": 44,
   "metadata": {
    "collapsed": false
   },
   "outputs": [
    {
     "data": {
      "image/png": "[encoded data removed]",
      "text/plain": [
       "<matplotlib.figure.Figure at 0x7fe45cc2e550>"
      ]
     },
     "metadata": {},
     "output_type": "display_data"
    }
   ],
   "source": [
    "x = df_hip.iloc[:,8].values \n",
    "y = df_hip.iloc[:,1].values\n",
    "fig = figure()\n",
    "ax = fig.add_subplot(111)\n",
    "ax.set_xlabel('B-V')\n",
    "ax.set_ylabel('Vmag')\n",
    "scatter(x,y,s=1) # marker size\n",
    "ylim([y.min(axis=0),y.max(axis=0)]) # x-axis range\n",
    "xlim([x.min(axis=0),2]) # x-axis range\n",
    "gca().invert_yaxis()  # y-axis reversed\n",
    "show()"
   ]
  },
  {
   "cell_type": "code",
   "execution_count": null,
   "metadata": {
    "collapsed": true
   },
   "outputs": [],
   "source": [
    "# The lines below are just for exercise \n",
    "# to check data and manipulating numpy arrays"
   ]
  },
  {
   "cell_type": "code",
   "execution_count": 9,
   "metadata": {
    "collapsed": false
   },
   "outputs": [
    {
     "data": {
      "text/html": [
       "<div>\n",
       "<table border=\"1\" class=\"dataframe\">\n",
       "  <thead>\n",
       "    <tr style=\"text-align: right;\">\n",
       "      <th></th>\n",
       "      <th>HIP</th>\n",
       "      <th>Vmag</th>\n",
       "      <th>RA</th>\n",
       "      <th>DE</th>\n",
       "      <th>Plx</th>\n",
       "      <th>pmRA</th>\n",
       "      <th>pmDE</th>\n",
       "      <th>e_Plx</th>\n",
       "      <th>B-V</th>\n",
       "    </tr>\n",
       "  </thead>\n",
       "  <tbody>\n",
       "    <tr>\n",
       "      <th>0</th>\n",
       "      <td>2</td>\n",
       "      <td>9.27</td>\n",
       "      <td>0.003797</td>\n",
       "      <td>-19.498837</td>\n",
       "      <td>21.90</td>\n",
       "      <td>181.21</td>\n",
       "      <td>-0.93</td>\n",
       "      <td>3.10</td>\n",
       "      <td>0.999</td>\n",
       "    </tr>\n",
       "    <tr>\n",
       "      <th>1</th>\n",
       "      <td>38</td>\n",
       "      <td>8.65</td>\n",
       "      <td>0.111047</td>\n",
       "      <td>-79.061831</td>\n",
       "      <td>23.84</td>\n",
       "      <td>162.30</td>\n",
       "      <td>-62.40</td>\n",
       "      <td>0.78</td>\n",
       "      <td>0.778</td>\n",
       "    </tr>\n",
       "    <tr>\n",
       "      <th>2</th>\n",
       "      <td>47</td>\n",
       "      <td>10.78</td>\n",
       "      <td>0.135192</td>\n",
       "      <td>-56.835248</td>\n",
       "      <td>24.45</td>\n",
       "      <td>-44.21</td>\n",
       "      <td>-145.90</td>\n",
       "      <td>1.97</td>\n",
       "      <td>1.150</td>\n",
       "    </tr>\n",
       "    <tr>\n",
       "      <th>3</th>\n",
       "      <td>54</td>\n",
       "      <td>10.57</td>\n",
       "      <td>0.151656</td>\n",
       "      <td>17.968956</td>\n",
       "      <td>20.97</td>\n",
       "      <td>367.14</td>\n",
       "      <td>-19.49</td>\n",
       "      <td>1.71</td>\n",
       "      <td>1.030</td>\n",
       "    </tr>\n",
       "    <tr>\n",
       "      <th>4</th>\n",
       "      <td>74</td>\n",
       "      <td>9.93</td>\n",
       "      <td>0.221873</td>\n",
       "      <td>35.752722</td>\n",
       "      <td>24.22</td>\n",
       "      <td>157.73</td>\n",
       "      <td>-40.31</td>\n",
       "      <td>1.36</td>\n",
       "      <td>1.068</td>\n",
       "    </tr>\n",
       "  </tbody>\n",
       "</table>\n",
       "</div>"
      ],
      "text/plain": [
       "  HIP   Vmag        RA         DE    Plx    pmRA    pmDE  e_Plx    B-V\n",
       "0   2   9.27  0.003797 -19.498837  21.90  181.21   -0.93   3.10  0.999\n",
       "1  38   8.65  0.111047 -79.061831  23.84  162.30  -62.40   0.78  0.778\n",
       "2  47  10.78  0.135192 -56.835248  24.45  -44.21 -145.90   1.97  1.150\n",
       "3  54  10.57  0.151656  17.968956  20.97  367.14  -19.49   1.71  1.030\n",
       "4  74   9.93  0.221873  35.752722  24.22  157.73  -40.31   1.36  1.068"
      ]
     },
     "execution_count": 9,
     "metadata": {},
     "output_type": "execute_result"
    }
   ],
   "source": [
    "df_hip[:5]"
   ]
  }
 ],
 "metadata": {
  "kernelspec": {
   "display_name": "Python 2",
   "language": "python",
   "name": "python2"
  },
  "language_info": {
   "codemirror_mode": {
    "name": "ipython",
    "version": 2
   },
   "file_extension": ".py",
   "mimetype": "text/x-python",
   "name": "python",
   "nbconvert_exporter": "python",
   "pygments_lexer": "ipython2",
   "version": "2.7.12"
  }
 },
 "nbformat": 4,
 "nbformat_minor": 1
}
