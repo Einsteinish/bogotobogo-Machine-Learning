{
 "cells": [
  {
   "cell_type": "code",
   "execution_count": 1,
   "metadata": {
    "collapsed": false
   },
   "outputs": [
    {
     "name": "stdout",
     "output_type": "stream",
     "text": [
      "Populating the interactive namespace from numpy and matplotlib\n"
     ]
    }
   ],
   "source": [
    "%pylab inline"
   ]
  },
  {
   "cell_type": "code",
   "execution_count": 2,
   "metadata": {
    "collapsed": false
   },
   "outputs": [],
   "source": [
    "import pandas as pd\n",
    "import numpy as np"
   ]
  },
  {
   "cell_type": "code",
   "execution_count": 3,
   "metadata": {
    "collapsed": true
   },
   "outputs": [],
   "source": [
    "# reads in a file separated by multiple spaces.\n",
    "# So, sep='\\s+' is needed. \n",
    "df_hip = pd.read_csv( \\\n",
    "'http://bogotobogo.com/python/images/python_Pandas_NumPy_Matplotlib/HIP_star.dat',\\\n",
    "                     sep='\\s+')"
   ]
  },
  {
   "cell_type": "code",
   "execution_count": 4,
   "metadata": {
    "collapsed": false
   },
   "outputs": [
    {
     "data": {
      "text/plain": [
       "(2720, 9)"
      ]
     },
     "execution_count": 4,
     "metadata": {},
     "output_type": "execute_result"
    }
   ],
   "source": [
    "df_hip.shape"
   ]
  },
  {
   "cell_type": "code",
   "execution_count": 5,
   "metadata": {
    "collapsed": false
   },
   "outputs": [
    {
     "data": {
      "text/plain": [
       "HIP       0\n",
       "Vmag      1\n",
       "RA        1\n",
       "DE        1\n",
       "Plx       1\n",
       "pmRA      1\n",
       "pmDE      1\n",
       "e_Plx     1\n",
       "B-V      42\n",
       "dtype: int64"
      ]
     },
     "execution_count": 5,
     "metadata": {},
     "output_type": "execute_result"
    }
   ],
   "source": [
    "# check if a column has no data (or NaN)\n",
    "df_hip.isnull().sum()"
   ]
  },
  {
   "cell_type": "code",
   "execution_count": 6,
   "metadata": {
    "collapsed": false
   },
   "outputs": [],
   "source": [
    "# drop any row if any of the column is missing data\n",
    "df_hip = df_hip.dropna()"
   ]
  },
  {
   "cell_type": "code",
   "execution_count": 7,
   "metadata": {
    "collapsed": false
   },
   "outputs": [
    {
     "data": {
      "text/plain": [
       "HIP      0\n",
       "Vmag     0\n",
       "RA       0\n",
       "DE       0\n",
       "Plx      0\n",
       "pmRA     0\n",
       "pmDE     0\n",
       "e_Plx    0\n",
       "B-V      0\n",
       "dtype: int64"
      ]
     },
     "execution_count": 7,
     "metadata": {},
     "output_type": "execute_result"
    }
   ],
   "source": [
    "# check if a column has no data (or NaN) again\n",
    "df_hip.isnull().sum()"
   ]
  },
  {
   "cell_type": "code",
   "execution_count": 8,
   "metadata": {
    "collapsed": false
   },
   "outputs": [
    {
     "data": {
      "text/plain": [
       "(2678, 9)"
      ]
     },
     "execution_count": 8,
     "metadata": {},
     "output_type": "execute_result"
    }
   ],
   "source": [
    "df_hip.shape"
   ]
  },
  {
   "cell_type": "code",
   "execution_count": 9,
   "metadata": {
    "collapsed": false
   },
   "outputs": [
    {
     "data": {
      "image/png": "[encoded data removed]",
      "text/plain": [
       "<matplotlib.figure.Figure at 0x7f17889b1fd0>"
      ]
     },
     "metadata": {},
     "output_type": "display_data"
    }
   ],
   "source": [
    "x = df_hip.iloc[:,8].values \n",
    "y = df_hip.iloc[:,1].values\n",
    "fig = figure()\n",
    "ax = fig.add_subplot(111)\n",
    "ax.set_xlabel('B-V')\n",
    "ax.set_ylabel('Vmag')\n",
    "scatter(x,y,s=1) # marker size\n",
    "ylim([y.min(axis=0),y.max(axis=0)]) # x-axis range\n",
    "xlim([x.min(axis=0),2]) # x-axis range\n",
    "gca().invert_yaxis()  # y-axis reversed\n",
    "show()"
   ]
  },
  {
   "cell_type": "code",
   "execution_count": 10,
   "metadata": {
    "collapsed": true
   },
   "outputs": [],
   "source": [
    "# The lines below are just for exercise \n",
    "# to check data and manipulating numpy arrays"
   ]
  },
  {
   "cell_type": "code",
   "execution_count": 11,
   "metadata": {
    "collapsed": false
   },
   "outputs": [
    {
     "data": {
      "text/html": [
       "<div>\n",
       "<table border=\"1\" class=\"dataframe\">\n",
       "  <thead>\n",
       "    <tr style=\"text-align: right;\">\n",
       "      <th></th>\n",
       "      <th>HIP</th>\n",
       "      <th>Vmag</th>\n",
       "      <th>RA</th>\n",
       "      <th>DE</th>\n",
       "      <th>Plx</th>\n",
       "      <th>pmRA</th>\n",
       "      <th>pmDE</th>\n",
       "      <th>e_Plx</th>\n",
       "      <th>B-V</th>\n",
       "    </tr>\n",
       "  </thead>\n",
       "  <tbody>\n",
       "    <tr>\n",
       "      <th>0</th>\n",
       "      <td>2</td>\n",
       "      <td>9.27</td>\n",
       "      <td>0.003797</td>\n",
       "      <td>-19.498837</td>\n",
       "      <td>21.90</td>\n",
       "      <td>181.21</td>\n",
       "      <td>-0.93</td>\n",
       "      <td>3.10</td>\n",
       "      <td>0.999</td>\n",
       "    </tr>\n",
       "    <tr>\n",
       "      <th>1</th>\n",
       "      <td>38</td>\n",
       "      <td>8.65</td>\n",
       "      <td>0.111047</td>\n",
       "      <td>-79.061831</td>\n",
       "      <td>23.84</td>\n",
       "      <td>162.30</td>\n",
       "      <td>-62.40</td>\n",
       "      <td>0.78</td>\n",
       "      <td>0.778</td>\n",
       "    </tr>\n",
       "    <tr>\n",
       "      <th>2</th>\n",
       "      <td>47</td>\n",
       "      <td>10.78</td>\n",
       "      <td>0.135192</td>\n",
       "      <td>-56.835248</td>\n",
       "      <td>24.45</td>\n",
       "      <td>-44.21</td>\n",
       "      <td>-145.90</td>\n",
       "      <td>1.97</td>\n",
       "      <td>1.150</td>\n",
       "    </tr>\n",
       "    <tr>\n",
       "      <th>3</th>\n",
       "      <td>54</td>\n",
       "      <td>10.57</td>\n",
       "      <td>0.151656</td>\n",
       "      <td>17.968956</td>\n",
       "      <td>20.97</td>\n",
       "      <td>367.14</td>\n",
       "      <td>-19.49</td>\n",
       "      <td>1.71</td>\n",
       "      <td>1.030</td>\n",
       "    </tr>\n",
       "    <tr>\n",
       "      <th>4</th>\n",
       "      <td>74</td>\n",
       "      <td>9.93</td>\n",
       "      <td>0.221873</td>\n",
       "      <td>35.752722</td>\n",
       "      <td>24.22</td>\n",
       "      <td>157.73</td>\n",
       "      <td>-40.31</td>\n",
       "      <td>1.36</td>\n",
       "      <td>1.068</td>\n",
       "    </tr>\n",
       "  </tbody>\n",
       "</table>\n",
       "</div>"
      ],
      "text/plain": [
       "  HIP   Vmag        RA         DE    Plx    pmRA    pmDE  e_Plx    B-V\n",
       "0   2   9.27  0.003797 -19.498837  21.90  181.21   -0.93   3.10  0.999\n",
       "1  38   8.65  0.111047 -79.061831  23.84  162.30  -62.40   0.78  0.778\n",
       "2  47  10.78  0.135192 -56.835248  24.45  -44.21 -145.90   1.97  1.150\n",
       "3  54  10.57  0.151656  17.968956  20.97  367.14  -19.49   1.71  1.030\n",
       "4  74   9.93  0.221873  35.752722  24.22  157.73  -40.31   1.36  1.068"
      ]
     },
     "execution_count": 11,
     "metadata": {},
     "output_type": "execute_result"
    }
   ],
   "source": [
    "df_hip[:5]"
   ]
  },
  {
   "cell_type": "code",
   "execution_count": null,
   "metadata": {
    "collapsed": true
   },
   "outputs": [],
   "source": []
  },
  {
   "cell_type": "code",
   "execution_count": null,
   "metadata": {
    "collapsed": true
   },
   "outputs": [],
   "source": [
    "# DBSCAN"
   ]
  },
  {
   "cell_type": "code",
   "execution_count": 12,
   "metadata": {
    "collapsed": true
   },
   "outputs": [],
   "source": [
    "import pandas as pd\n",
    "import numpy as np\n",
    "from sklearn.decomposition import PCA\n",
    "from sklearn.preprocessing import StandardScaler\n",
    "from sklearn.cluster import DBSCAN\n",
    "from numpy.random import RandomState\n",
    "import pylab as pl"
   ]
  },
  {
   "cell_type": "code",
   "execution_count": 13,
   "metadata": {
    "collapsed": false
   },
   "outputs": [
    {
     "data": {
      "text/plain": [
       "((2678, 9), array([['2', 9.27, 0.003797, ..., -0.93, 3.1, 0.9990000000000001],\n",
       "        ['38', 8.65, 0.111047, ..., -62.4, 0.78, 0.778],\n",
       "        ['47', 10.78, 0.135192, ..., -145.9, 1.97, 1.15],\n",
       "        ..., \n",
       "        ['118251', 8.16, 359.778318, ..., 3.56, 0.82, 0.652],\n",
       "        ['118254', 7.72, 359.787381, ..., 4.4, 0.8, 0.563],\n",
       "        ['118311', 11.85, 359.954685, ..., -112.81, 2.96, 1.391]], dtype=object))"
      ]
     },
     "execution_count": 13,
     "metadata": {},
     "output_type": "execute_result"
    }
   ],
   "source": [
    "XX = df_hip.iloc[:,:].values \n",
    "XX.shape, XX"
   ]
  },
  {
   "cell_type": "code",
   "execution_count": 14,
   "metadata": {
    "collapsed": false
   },
   "outputs": [
    {
     "data": {
      "text/plain": [
       "((2678, 9), array([['2', 9.27, 0.003797, ..., -0.93, 3.1, 0.9990000000000001],\n",
       "        ['38', 8.65, 0.111047, ..., -62.4, 0.78, 0.778],\n",
       "        ['47', 10.78, 0.135192, ..., -145.9, 1.97, 1.15],\n",
       "        ..., \n",
       "        ['118251', 8.16, 359.778318, ..., 3.56, 0.82, 0.652],\n",
       "        ['118254', 7.72, 359.787381, ..., 4.4, 0.8, 0.563],\n",
       "        ['118311', 11.85, 359.954685, ..., -112.81, 2.96, 1.391]], dtype=object), array([[0.9990000000000001, 9.27],\n",
       "        [0.778, 8.65],\n",
       "        [1.15, 10.78],\n",
       "        ..., \n",
       "        [0.652, 8.16],\n",
       "        [0.563, 7.72],\n",
       "        [1.391, 11.85]], dtype=object))"
      ]
     },
     "execution_count": 14,
     "metadata": {},
     "output_type": "execute_result"
    }
   ],
   "source": [
    "Xnew = XX[:,[8,1]]\n",
    "XX.shape, XX,Xnew"
   ]
  },
  {
   "cell_type": "code",
   "execution_count": 15,
   "metadata": {
    "collapsed": false
   },
   "outputs": [
    {
     "name": "stderr",
     "output_type": "stream",
     "text": [
      "/home/k/.local/lib/python2.7/site-packages/sklearn/utils/validation.py:429: DataConversionWarning: Data with input dtype object was converted to float64 by StandardScaler.\n",
      "  warnings.warn(msg, _DataConversionWarning)\n"
     ]
    },
    {
     "data": {
      "text/plain": [
       "((2678, 2), array([[ 0.74646047,  0.56791503],\n",
       "        [ 0.05177198,  0.2342337 ],\n",
       "        [ 1.22111189,  1.38059052],\n",
       "        ..., \n",
       "        [-0.34429476, -0.02948219],\n",
       "        [-0.62405619, -0.26628829],\n",
       "        [ 1.97866812,  1.95645991]]))"
      ]
     },
     "execution_count": 15,
     "metadata": {},
     "output_type": "execute_result"
    }
   ],
   "source": [
    "X = StandardScaler().fit_transform(Xnew)\n",
    "X.shape, X"
   ]
  },
  {
   "cell_type": "code",
   "execution_count": 16,
   "metadata": {
    "collapsed": false
   },
   "outputs": [
    {
     "name": "stdout",
     "output_type": "stream",
     "text": [
      "Estimated number of clusters: 3\n"
     ]
    }
   ],
   "source": [
    "# db = DBSCAN(eps=0.2, min_samples=8).fit(X)\n",
    "db = DBSCAN(eps=0.20, min_samples=7).fit(X)\n",
    "core_samples_mask = np.zeros_like(db.labels_, dtype=bool)\n",
    "core_samples_mask[db.core_sample_indices_] = True\n",
    "labels = db.labels_\n",
    "\n",
    "# Number of clusters in labels, ignoring noise if present.\n",
    "n_clusters_ = len(set(labels)) - (1 if -1 in labels else 0)\n",
    "\n",
    "print('Estimated number of clusters: %d' % n_clusters_)"
   ]
  },
  {
   "cell_type": "code",
   "execution_count": 17,
   "metadata": {
    "collapsed": false
   },
   "outputs": [
    {
     "data": {
      "text/plain": [
       "(array([ True,  True,  True, ...,  True,  True,  True], dtype=bool),\n",
       " array([   0,    1,    2, ..., 2675, 2676, 2677]))"
      ]
     },
     "execution_count": 17,
     "metadata": {},
     "output_type": "execute_result"
    }
   ],
   "source": [
    "core_samples_mask, db.core_sample_indices_"
   ]
  },
  {
   "cell_type": "code",
   "execution_count": 18,
   "metadata": {
    "collapsed": false
   },
   "outputs": [
    {
     "data": {
      "text/plain": [
       "({-1, 0, 1, 2}, array([[ 0.61960787,  0.00392157,  0.25882354,  1.        ],\n",
       "        [ 0.99346405,  0.74771243,  0.43529413,  1.        ],\n",
       "        [ 0.74771243,  0.89803922,  0.627451  ,  1.        ],\n",
       "        [ 0.36862746,  0.30980393,  0.63529414,  1.        ]]))"
      ]
     },
     "execution_count": 18,
     "metadata": {},
     "output_type": "execute_result"
    }
   ],
   "source": [
    "import matplotlib.pyplot as plt\n",
    "\n",
    "# Black removed and is used for noise instead.\n",
    "unique_labels = set(labels)\n",
    "colors = plt.cm.Spectral(np.linspace(0, 1, len(unique_labels)))\n",
    "unique_labels, colors"
   ]
  },
  {
   "cell_type": "code",
   "execution_count": 19,
   "metadata": {
    "collapsed": false
   },
   "outputs": [
    {
     "name": "stderr",
     "output_type": "stream",
     "text": [
      "/usr/local/lib/python2.7/dist-packages/matplotlib/lines.py:1145: FutureWarning: comparison to `None` will result in an elementwise object comparison in the future.\n",
      "  if self._markerfacecolor != fc:\n"
     ]
    },
    {
     "data": {
      "image/png": "[encoded data removed]",
      "text/plain": [
       "<matplotlib.figure.Figure at 0x7f1778e7b890>"
      ]
     },
     "metadata": {},
     "output_type": "display_data"
    }
   ],
   "source": [
    "for k, col in zip(unique_labels, colors):\n",
    "    if k == -1:\n",
    "        # Black used for noise.\n",
    "        col = 'k'\n",
    "\n",
    "    class_member_mask = (labels == k)\n",
    "\n",
    "    xy = X[class_member_mask & core_samples_mask]\n",
    "    plt.plot(xy[:, 0], xy[:, 1], 'o', markerfacecolor=col,\n",
    "             markeredgecolor='k', markersize=6)\n",
    "\n",
    "    xy = X[class_member_mask & ~core_samples_mask]\n",
    "    plt.plot(xy[:, 0], xy[:, 1], 'o', markerfacecolor=col,\n",
    "             markeredgecolor='k', markersize=2)\n",
    "\n",
    "plt.gca().invert_yaxis()  \n",
    "plt.title('Estimated number of clusters: %d' % n_clusters_)\n",
    "plt.show()"
   ]
  },
  {
   "cell_type": "code",
   "execution_count": null,
   "metadata": {
    "collapsed": true
   },
   "outputs": [],
   "source": []
  }
 ],
 "metadata": {
  "kernelspec": {
   "display_name": "Python 2",
   "language": "python",
   "name": "python2"
  },
  "language_info": {
   "codemirror_mode": {
    "name": "ipython",
    "version": 2
   },
   "file_extension": ".py",
   "mimetype": "text/x-python",
   "name": "python",
   "nbconvert_exporter": "python",
   "pygments_lexer": "ipython2",
   "version": "2.7.12"
  }
 },
 "nbformat": 4,
 "nbformat_minor": 1
}
